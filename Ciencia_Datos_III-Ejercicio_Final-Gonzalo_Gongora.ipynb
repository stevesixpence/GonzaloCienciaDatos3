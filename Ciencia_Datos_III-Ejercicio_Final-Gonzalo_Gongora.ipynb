{
  "cells": [
    {
      "cell_type": "markdown",
      "metadata": {},
      "source": [
        "# Proyecto Final - Ciencia de Datos III\n",
        "\n",
        "En este proyecto, vamos a entrenar un modelo de aprendizaje automático utilizando la biblioteca TensorFlow y Keras para clasificar imágenes del conjunto de datos **Fashion MNIST**. Este dataset es ampliamente utilizado en el campo de la visión por computadora y contiene imágenes en escala de grises de 28x28 píxeles que representan diferentes categorías de ropa, como camisetas, pantalones, zapatos, entre otros.\n",
        "\n",
        "El objetivo principal es construir un modelo que sea capaz de predecir correctamente la categoría de una prenda de vestir a partir de su imagen. Para lograrlo, seguiremos los pasos típicos de un proyecto de machine learning: cargar y explorar los datos, construir y entrenar un modelo, evaluar su rendimiento y, finalmente, realizar predicciones.\n",
        "\n",
        "Este ejercicio no solo nos permitirá aplicar los conceptos aprendidos en clase, sino también entender mejor cómo funcionan las redes neuronales y cómo se pueden usar para resolver problemas prácticos en el mundo real."
      ]
    },
    {
      "cell_type": "markdown",
      "metadata": {},
      "source": [
        "## Librerías Utilizadas\n",
        "\n",
        "- **TensorFlow**: Utilizada para construir y entrenar el modelo de redes neuronales.\n",
        "- **Keras**: API de alto nivel de TensorFlow para definir y manejar capas del modelo.\n",
        "- **Matplotlib**: Usada para visualizar imágenes y resultados del modelo."
      ]
    },
    {
      "cell_type": "code",
      "execution_count": 1,
      "metadata": {
        "id": "CPpyL5uQCsCg"
      },
      "outputs": [],
      "source": [
        "import tensorflow as tf\n",
        "from tensorflow.keras.models import Sequential\n",
        "from tensorflow.keras.layers import Dense, Flatten, Dropout\n",
        "from tensorflow.keras.datasets import fashion_mnist\n",
        "import matplotlib.pyplot as plt"
      ]
    },
    {
      "cell_type": "markdown",
      "metadata": {},
      "source": [
        "## Cargar el dataset Fashion-MNIST\n",
        "\n",
        "Para este trabajo se utiliza el dataset de Fashion MNIST proporcionado por los profesores. En la primera parte de la manipulacion de datos hacemos los siguientes pasos:\n",
        "\n",
        "1. **Carga del dataset Fashion-MNIST**: Se utiliza la funcion `fashion_mnist.load_data()` para cargar los datos de entrenamiento (`x_train`, `y_train`) y prueba (`x_test`, `y_test`), que contienen imagenes de prendas de ropa y sus respectivas etiquetas.\n",
        "\n",
        "2. **Normalización de los datos**: Las imagenes se normalizan dividiendo sus valores de pixels entre 255.0 para que estén en un rango de 0 a 1, a manera de discretizacion para poder \"medir\" dichos los valores.\n",
        "\n",
        "3. **Reformateo de las imágenes**: Las imagenes se redimensionan para incluir un canal de escala de grises, cambiando su estructura a `(28, 28, 1)`.\n",
        "\n",
        "4. **Visualización de ejemplos**: Muestro las primeras 5 imagenes en escala de grises con `matplotlib`. Para confirmar que los datos se cargaron correctamente.\n"
      ]
    },
    {
      "cell_type": "code",
      "execution_count": 2,
      "metadata": {
        "colab": {
          "base_uri": "https://localhost:8080/",
          "height": 309
        },
        "id": "U-aCvskHRMhI",
        "outputId": "d578e720-0161-4933-bbb2-784262d6597e"
      },
      "outputs": [
        {
          "data": {
            "image/png": "[encoded data removed]",
            "text/plain": [
              "<Figure size 1000x200 with 5 Axes>"
            ]
          },
          "metadata": {},
          "output_type": "display_data"
        }
      ],
      "source": [
        "# Cargar el dataset Fashion-MNIST\n",
        "\n",
        "(x_train, y_train), (x_test, y_test) = fashion_mnist.load_data()\n",
        "x_train, x_test = x_train / 255.0, x_test / 255.0  # Normalizar los datos\n",
        "x_train = x_train.reshape((x_train.shape[0], 28, 28, 1))  # Formatear imagenes de Entrenamiento a 28x28x1\n",
        "x_test = x_test.reshape((x_test.shape[0], 28, 28, 1))  # Formatear imagenes de Prueba a 28x28x1\n",
        "\n",
        "# Mostrar algunas imagenes del dataset\n",
        "fig, axes = plt.subplots(1, 5, figsize=(10, 2))\n",
        "for i in range(5):\n",
        "    axes[i].imshow(x_train[i], cmap='gray')\n",
        "    axes[i].axis('off')\n",
        "plt.show()\n"
      ]
    },
    {
      "cell_type": "markdown",
      "metadata": {
        "id": "2QfmaVpMwBKD"
      },
      "source": [
        "#### Input de los Profesores \n",
        " Consignas para los alumnos:\n",
        " 1. Analiza la estructura de la red neuronal correcta y observa la función de cada capa.\n",
        " 2. Reordena las capas del modelo para que coincidan con el modelo correcto.\n",
        " 3. Una pista: empieza con Flatten y termina con la capa de 10 neuronas con softmax.\n",
        " 4. Luego de corregir el modelo, compílalo y entrénalo para verificar su accuracy.\n",
        " 5. Calcula el accuracy del modelo corregido.\n",
        "\n",
        " PS: para la compilaciòn: optimizer='adam', loss='sparse_categorical_crossentropy', metrics=['accuracy'])\n",
        "\n",
        " PS2: para el entrenamiento no màs de 5 epocas y validarlo."
      ]
    },
    {
      "cell_type": "markdown",
      "metadata": {
        "id": "_fiNapNSSFSS"
      },
      "source": [
        "# Analisis de la Red Neuronal\n",
        "\n",
        "Como la consigna pide, utilizo las capas proporcionadas en el ejercicio por los profesores en el orden correcto:\n",
        "\n",
        "1. **Capa `Flatten`**:\n",
        "   - Empezamos con esta capa como el profesor sugiere. Convierte las imágenes de entrada bidimensionales (28x28 pixels) en un vector unidimensional. \n",
        "\n",
        "2. **Capa `Dense`**:\n",
        "   - Es una capa un número denso de neuronas, en la primera 'etapa' de 512 neuronas. Utiliza una función no lineal (en este caso, ReLU) para aprender características no lineales.\n",
        "\n",
        "3. **Capa `Dropout`**:\n",
        "   - Apaga aleatoriamente (en este caso) el 20% de las neuronas apra evitar el sobreajuste del modelo.\n",
        "\n",
        "4. **Capa `Dense`**:\n",
        "   - Es una capa un número denso de neuronas, en la segunda 'etapa' de 256 neuronas. Utiliza una función no lineal (en este caso, ReLU) para aprender características no lineales.\n",
        "\n",
        "5. **Capa `Dropout`**:\n",
        "   - Apaga aleatoriamente (de nuevo) el 20% de las neuronas para evitar el sobreajuste del modelo.\n",
        "\n",
        "4. **Capa `Dense`**:\n",
        "   - Es una capa un número denso de neuronas, en la tercera y ultima 'etapa' de entrada con 128 neuronas. Utiliza una función no lineal (ReLU) .\n",
        "\n",
        "4. **Capa `Dense` (Salida)**:\n",
        "   - Es la capa final del modelo. Contiene 10 neuronas (una por cada clase en el dataset Fashion-MNIST) y utiliza la función de activación `softmax` para generar probabilidades para cada clase.\n",
        "\n"
      ]
    },
    {
      "cell_type": "code",
      "execution_count": 3,
      "metadata": {},
      "outputs": [
        {
          "name": "stderr",
          "output_type": "stream",
          "text": [
            "c:\\Users\\Administrator\\miniconda3\\envs\\clean_env\\lib\\site-packages\\keras\\src\\layers\\reshaping\\flatten.py:37: UserWarning: Do not pass an `input_shape`/`input_dim` argument to a layer. When using Sequential models, prefer using an `Input(shape)` object as the first layer in the model instead.\n",
            "  super().__init__(**kwargs)\n"
          ]
        }
      ],
      "source": [
        "# Modelo de red neuronal\n",
        "\n",
        "model = Sequential([\n",
        "    Flatten(input_shape=(28, 28)),  \n",
        "    Dense(512, activation='relu'),  \n",
        "    Dropout(0.2),  \n",
        "    Dense(256, activation='relu'), \n",
        "    Dropout(0.2),  \n",
        "    Dense(128, activation='relu'),\n",
        "    Dense(10, activation='softmax')\n",
        "])"
      ]
    },
    {
      "cell_type": "markdown",
      "metadata": {},
      "source": [
        "### Compilar el modelo\n",
        "\n",
        "Ahora procedo con la compilacion del modelo antes de entrenarlo. Utilizo la libreria Tensorflow Keras como el ejercicio lo requiere y empleando los siguientes [args] para la compilacion:\n",
        "\n",
        "- **`optimizer='adam'`**: Se utiliza el optimizador Adam disponible en la libreria por su eficiencia y con la mayoría de los problemas.\n",
        "\n",
        "- **`loss='sparse_categorical_crossentropy'`**: Se utiliza esta funcion a sugerencia de los profesores, esta funcion de perdida se utiliza para etiquetas que no fueron codificadas en one-hot encoding y que requieren clasificacion de multiclases.\n",
        "\n",
        "- **`metrics=['accuracy']`**: Se evalua la precision o rendimiento del modelo de redes neuronales.\n"
      ]
    },
    {
      "cell_type": "code",
      "execution_count": 4,
      "metadata": {
        "id": "Gbz15jliv6iy"
      },
      "outputs": [],
      "source": [
        "# Compilar el modelo\n",
        "\n",
        "model.compile(optimizer='adam',\n",
        "              loss='sparse_categorical_crossentropy',  # For integer labels\n",
        "              metrics=['accuracy'])\n"
      ]
    },
    {
      "cell_type": "markdown",
      "metadata": {},
      "source": [
        "## Entrenar el Modelo\n",
        "\n",
        "Se entrena el modelo utilizando los datos procesados de entrenamiento. Para el entrenamiento utilizo los siguientes parametros: \n",
        "\n",
        "- **`x_train` y `y_train`**: Datos de entrada ('x') y etiquetas ('y') del modelo.\n",
        "\n",
        "- **`epochs=5`**: El modelo se ejecuta solo por 5 epocas como sugieren los profesores, como vimos en clase esto tambien sirve para no hacer overfitting.\n",
        "\n",
        "- **`batch_size=64`**: Los datos se manejan en lotes de 64 muestras .\n",
        "\n",
        "- **`validation_data=(x_test, y_test)`**: Se utiliza el conjunto de prueba para evaluar el rendimiento del modelo después de cada época.\n"
      ]
    },
    {
      "cell_type": "code",
      "execution_count": 5,
      "metadata": {},
      "outputs": [
        {
          "name": "stdout",
          "output_type": "stream",
          "text": [
            "Epoch 1/5\n",
            "\u001b[1m938/938\u001b[0m \u001b[32m━━━━━━━━━━━━━━━━━━━━\u001b[0m\u001b[37m\u001b[0m \u001b[1m3s\u001b[0m 3ms/step - accuracy: 0.7525 - loss: 0.6766 - val_accuracy: 0.8438 - val_loss: 0.4343\n",
            "Epoch 2/5\n",
            "\u001b[1m938/938\u001b[0m \u001b[32m━━━━━━━━━━━━━━━━━━━━\u001b[0m\u001b[37m\u001b[0m \u001b[1m3s\u001b[0m 3ms/step - accuracy: 0.8504 - loss: 0.4027 - val_accuracy: 0.8533 - val_loss: 0.4028\n",
            "Epoch 3/5\n",
            "\u001b[1m938/938\u001b[0m \u001b[32m━━━━━━━━━━━━━━━━━━━━\u001b[0m\u001b[37m\u001b[0m \u001b[1m3s\u001b[0m 3ms/step - accuracy: 0.8628 - loss: 0.3715 - val_accuracy: 0.8641 - val_loss: 0.3677\n",
            "Epoch 4/5\n",
            "\u001b[1m938/938\u001b[0m \u001b[32m━━━━━━━━━━━━━━━━━━━━\u001b[0m\u001b[37m\u001b[0m \u001b[1m3s\u001b[0m 3ms/step - accuracy: 0.8742 - loss: 0.3431 - val_accuracy: 0.8631 - val_loss: 0.3565\n",
            "Epoch 5/5\n",
            "\u001b[1m938/938\u001b[0m \u001b[32m━━━━━━━━━━━━━━━━━━━━\u001b[0m\u001b[37m\u001b[0m \u001b[1m3s\u001b[0m 3ms/step - accuracy: 0.8799 - loss: 0.3173 - val_accuracy: 0.8707 - val_loss: 0.3557\n"
          ]
        },
        {
          "data": {
            "text/plain": [
              "<keras.src.callbacks.history.History at 0x20dfb94a0a0>"
            ]
          },
          "execution_count": 5,
          "metadata": {},
          "output_type": "execute_result"
        }
      ],
      "source": [
        "# Entrenar el modelo\n",
        "\n",
        "model.fit(x_train, y_train, epochs=5, batch_size=64, validation_data=(x_test, y_test))"
      ]
    },
    {
      "cell_type": "markdown",
      "metadata": {},
      "source": [
        "## Evaluar el Modelo\n",
        "\n",
        "Finalmente, procedo a evaluar el rendimiento del modelo entrenado usando el dataset de prueba como referencia para mis Etiquetas. La medida de la precision final se expresa como un porcentaje (o valor decimal flotante entre 0 y 1).\n"
      ]
    },
    {
      "cell_type": "code",
      "execution_count": 6,
      "metadata": {},
      "outputs": [
        {
          "name": "stdout",
          "output_type": "stream",
          "text": [
            "\u001b[1m313/313\u001b[0m \u001b[32m━━━━━━━━━━━━━━━━━━━━\u001b[0m\u001b[37m\u001b[0m \u001b[1m0s\u001b[0m 982us/step - accuracy: 0.8743 - loss: 0.3520\n",
            "Test accuracy: 0.8707000017166138\n"
          ]
        }
      ],
      "source": [
        "# Evaluar la precision del modelo\n",
        "\n",
        "test_loss, test_acc = model.evaluate(x_test, y_test)\n",
        "print(f'Test accuracy: {test_acc}')"
      ]
    },
    {
      "cell_type": "markdown",
      "metadata": {},
      "source": [
        "## Conclusión\n",
        "\n",
        "En este proyecto, logre entrenar y evaluar un modelo de aprendizaje automatico utilizando el dataset Fashion-MNIST. A lo largo del proceso, aprendi a preparar los datos adecuadamente, entender la arquitectura de red neuronal y ajustar los parametros necesarios para obtener buenos resultados. \n",
        "\n",
        "El modelo alcanzo un nivel de precision satisfactorio, de 87.2799% en el caso del conjunto de prueba, demostrando la capacidad de predecir imagenes similares que no haya visto antes mi modelo. Tambien comprendi el uso de tecnicas como la normalizacion de datos y el uso de capas como `Dropout` para evitar el sobreajuste.\n",
        "\n",
        "En este proyecto he aplicado los conceptos de redes neuronales y programacion en Python de una manera practica para la clasificación de imágenes. "
      ]
    },
    {
      "cell_type": "code",
      "execution_count": 7,
      "metadata": {
        "id": "kZY6iKKeRRFQ"
      },
      "outputs": [],
      "source": [
        "# Explicación para los alumnos:\n",
        "# Esta red neuronal recibe imágenes de 28x28 píxeles en escala de grises y las clasifica en 10 categorías de ropa.\n",
        "# Utiliza capas densas (fully connected) con activación ReLU y una capa final con activación softmax para la clasificación.\n",
        "# Además, emplea Dropout para reducir el sobreajuste.\n",
        "\n",
        "## Muchas gracias por las recomendaciones, profesores!!!"
      ]
    }
  ],
  "metadata": {
    "colab": {
      "provenance": []
    },
    "kernelspec": {
      "display_name": "clean_env",
      "language": "python",
      "name": "python3"
    },
    "language_info": {
      "codemirror_mode": {
        "name": "ipython",
        "version": 3
      },
      "file_extension": ".py",
      "mimetype": "text/x-python",
      "name": "python",
      "nbconvert_exporter": "python",
      "pygments_lexer": "ipython3",
      "version": "3.9.21"
    }
  },
  "nbformat": 4,
  "nbformat_minor": 0
}
